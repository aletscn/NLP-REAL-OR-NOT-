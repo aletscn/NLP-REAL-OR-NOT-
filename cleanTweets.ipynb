{
  "nbformat": 4,
  "nbformat_minor": 0,
  "metadata": {
    "colab": {
      "name": "cleanTweets",
      "provenance": [],
      "mount_file_id": "13Rxq9gfM_rhUtzrfClFaKRcQd-sfOkFk",
      "authorship_tag": "ABX9TyOPvOBnlniZVlA4HMxfZaCr",
      "include_colab_link": true
    },
    "kernelspec": {
      "name": "python3",
      "display_name": "Python 3"
    }
  },
  "cells": [
    {
      "cell_type": "markdown",
      "metadata": {
        "id": "view-in-github",
        "colab_type": "text"
      },
      "source": [
        "<a href=\"https://colab.research.google.com/github/aletscn/NLP-REAL-OR-NOT-/blob/master/cleanTweets.ipynb\" target=\"_parent\"><img src=\"https://colab.research.google.com/assets/colab-badge.svg\" alt=\"Open In Colab\"/></a>"
      ]
    },
    {
      "cell_type": "code",
      "metadata": {
        "id": "lLmepy-oAvxZ",
        "colab_type": "code",
        "colab": {}
      },
      "source": [
        "import os\n",
        "import sys\n",
        "\n",
        "import pandas as pd\n",
        "import numpy as np\n",
        "from collections import defaultdict\n",
        "import nltk\n",
        "from nltk.corpus import stopwords\n",
        "stop=set(stopwords.words('english'))\n",
        "from nltk.tokenize import word_tokenize\n",
        "import string\n",
        "import re\n",
        "from PIL import Image    # to import the image\n",
        "\n",
        "\n",
        "%matplotlib inline\n",
        "\n",
        "#para suprimir notacion cientifica en los outputs\n",
        "pd.options.display.float_format='{:20,.1f}'.format\n",
        "\n",
        "import warnings\n",
        "warnings.filterwarnings('ignore')"
      ],
      "execution_count": 1,
      "outputs": []
    },
    {
      "cell_type": "code",
      "metadata": {
        "id": "kMIo5OgKAxmY",
        "colab_type": "code",
        "colab": {}
      },
      "source": [
        "# Code to read csv file into Colaboratory:\n",
        "!pip install -U -q PyDrive\n",
        "from pydrive.auth import GoogleAuth\n",
        "from pydrive.drive import GoogleDrive\n",
        "from google.colab import auth\n",
        "from oauth2client.client import GoogleCredentials\n",
        "\n",
        "# Authenticate and create the PyDrive client.\n",
        "auth.authenticate_user()\n",
        "gauth = GoogleAuth()\n",
        "gauth.credentials = GoogleCredentials.get_application_default()\n",
        "drive = GoogleDrive(gauth)"
      ],
      "execution_count": 2,
      "outputs": []
    },
    {
      "cell_type": "code",
      "metadata": {
        "id": "sZoZCIIkCWI6",
        "colab_type": "code",
        "colab": {}
      },
      "source": [
        "#Donde se encuentran los documentos (train, text)\n",
        "DRIVE_DIR='/content/drive'\n",
        "DATA_DIR = 'drive/My Drive/Colab Notebooks'\n",
        "TWEETS_DIR='data_tp2'\n",
        "#GLOVE_DIR = os.path.join(BASE_DIR, 'glove.6B')"
      ],
      "execution_count": 3,
      "outputs": []
    },
    {
      "cell_type": "code",
      "metadata": {
        "id": "xuv8J0LKA1Zy",
        "colab_type": "code",
        "colab": {
          "base_uri": "https://localhost:8080/",
          "height": 33
        },
        "outputId": "c720e8d9-1244-4556-cabb-595c7707a71b"
      },
      "source": [
        "from google.colab import drive\n",
        "drive.mount(DRIVE_DIR)"
      ],
      "execution_count": 4,
      "outputs": [
        {
          "output_type": "stream",
          "text": [
            "Drive already mounted at /content/drive; to attempt to forcibly remount, call drive.mount(\"/content/drive\", force_remount=True).\n"
          ],
          "name": "stdout"
        }
      ]
    },
    {
      "cell_type": "code",
      "metadata": {
        "id": "-1GUUv3xBlXs",
        "colab_type": "code",
        "colab": {}
      },
      "source": [
        "os.chdir(DATA_DIR)"
      ],
      "execution_count": 5,
      "outputs": []
    },
    {
      "cell_type": "code",
      "metadata": {
        "id": "w-Gcny-nDTya",
        "colab_type": "code",
        "colab": {
          "base_uri": "https://localhost:8080/",
          "height": 100
        },
        "outputId": "cb90d038-c744-46a3-a625-37c23dd6e3f1"
      },
      "source": [
        "ls"
      ],
      "execution_count": 6,
      "outputs": [
        {
          "output_type": "stream",
          "text": [
            " \u001b[0m\u001b[01;34m20_newsgroup\u001b[0m/                              \u001b[01;34mglove.6B\u001b[0m/\n",
            "'22 5.ipynb'                                news20.tar.gz\n",
            " cleanTweets.ipynb                         'TP1 version Ale v2.ipynb'\n",
            "'Copy of Ejercicio Clase 20-4-2020.ipynb'   twitter.png\n",
            " \u001b[01;34mdata_tp2\u001b[0m/                                  Untitled0.ipynb\n"
          ],
          "name": "stdout"
        }
      ]
    },
    {
      "cell_type": "code",
      "metadata": {
        "id": "Uq8SKSjvEagj",
        "colab_type": "code",
        "colab": {
          "base_uri": "https://localhost:8080/",
          "height": 33
        },
        "outputId": "9468c3d4-8c6e-45a4-e137-f154d016ae11"
      },
      "source": [
        "#Loading CSVs\n",
        "\n",
        "train=pd.read_csv(os.path.join(TWEETS_DIR, 'train.csv'))\n",
        "test=pd.read_csv(os.path.join(TWEETS_DIR, 'test.csv'))\n",
        "\n",
        "#Filling NAs\n",
        "train['keyword']=train['keyword'].fillna('no_keyword')\n",
        "train['location']=train['location'].fillna('no_location')\n",
        "\n",
        "test['keyword']=test['keyword'].fillna('no_keyword')\n",
        "test['location']=test['location'].fillna('no_location')\n",
        "\n",
        "#Filtering duplicated tweets, deleting contradictory labeled tweets (ONLY FOR TRAIN DF)\n",
        "\n",
        "train_clean=train\n",
        "duplicate_texts=train_clean.loc[:,['text','target']].groupby(['text']).transform('count')\n",
        "train_clean['duplicate_text_count']=duplicate_texts\n",
        "\n",
        "contradiction=train_clean.loc[:,['text','target']].groupby(['text']).transform('nunique')\n",
        "train_clean['count_targets']=contradiction\n",
        "train_clean=train_clean[train.count_targets==1]\n",
        "train_clean.drop('count_targets',axis=1,inplace=True)\n",
        "\n",
        "train_clean.drop_duplicates(subset ='text', keep = 'first', inplace = True)\n",
        "print('El DataFrame post cleaning cuenta con {} filas y {} columnas'.format(train_clean.shape[0],train_clean.shape[1]))\n"
      ],
      "execution_count": 7,
      "outputs": [
        {
          "output_type": "stream",
          "text": [
            "El DataFrame post cleaning cuenta con 7485 filas y 6 columnas\n"
          ],
          "name": "stdout"
        }
      ]
    },
    {
      "cell_type": "code",
      "metadata": {
        "id": "1Zi9BbCvH7t3",
        "colab_type": "code",
        "colab": {}
      },
      "source": [
        "#Cleaning URLs, punctuations, special characters\n",
        "\n",
        "\n",
        "def deleteSpecials(inputString):\n",
        "  text = re.sub(r'http\\S+', '', inputString)  \n",
        "  text2 = re.sub(r'@\\S+', '', text)\n",
        "  text3 = re.sub(r'&\\S+', '', text2)\n",
        "  text4 = re.sub(r'Ã\\S+', '', text3)\n",
        "  text5 = re.sub(r'www\\S+','',text4)\n",
        "  text6 = re.sub(r'\\x89Û\\S+','',text4)\n",
        "  return (text6)\n",
        "\n",
        "def decontracted(inputString):\n",
        "    phrase = re.sub(r\"won't\", \"will not\", inputString)\n",
        "    phrase = re.sub(r\"\\'t\", \" not\", phrase)\n",
        "    phrase = re.sub(r\"couldn\", \"could\", phrase)\n",
        "    phrase = re.sub(r\"don\", \"do\", phrase)\n",
        "    phrase = re.sub(r\"doesn\", \"does\", phrase)\n",
        "    phrase = re.sub(r\"isn\", \"is\", phrase)\n",
        "    phrase = re.sub(r\"mustn\", \"must\", phrase)\n",
        "    phrase = re.sub(r\"shouldn\", \"should\", phrase)\n",
        "    phrase = re.sub(r\"wasn\", \"was\", phrase)\n",
        "\n",
        "    # general\n",
        "\n",
        "    phrase = re.sub(r\"\\'re\", \" are\", phrase)\n",
        "    phrase = re.sub(r\"\\'s\", \" is\", phrase)\n",
        "    phrase = re.sub(r\"\\'d\", \" would\", phrase)\n",
        "    phrase = re.sub(r\"\\'ll\", \" will\", phrase)\n",
        "    phrase = re.sub(r\"\\'ve\", \" have\", phrase)\n",
        "    phrase = re.sub(r\"\\'m\", \" am\", phrase)\n",
        "    \n",
        "    return phrase\n",
        "\n",
        "def deletePunctuation(inputString):\n",
        "  aux=string.punctuation\n",
        "  special_characters='ÃŒ©‰¥¼ªû'\n",
        "  #puncts=aux.translate(str.maketrans(\"#@:/.\",\"     \"))\n",
        "  auxstring=\" \" * len(aux)\n",
        "  auxstring2=\" \" * len(special_characters)\n",
        "  outputString=inputString.translate(str.maketrans(aux,auxstring))\n",
        "  outputString=outputString.translate(str.maketrans(special_characters,auxstring2))\n",
        "  return outputString\n",
        "\n",
        "def deleteDigits(value):\n",
        "    blist2 = [item for item in value if not item.isdigit()]\n",
        "    blist3 = \"\".join(blist2)\n",
        "    return blist3\n",
        "\n",
        "def cleanText(inputString):\n",
        "  text_1=deleteSpecials(inputString)\n",
        "  text_2=decontracted(text_1)\n",
        "  text_3=deletePunctuation(text_2)\n",
        "  text_4=deleteDigits(text_3)\n",
        "  return text_4\n",
        "\n",
        "\n",
        "\n",
        "train_clean['text_clean'] = train_clean['text'].apply(lambda x: cleanText(x))\n",
        "test_clean=test\n",
        "test_clean['text_clean'] = test_clean['text'].apply(lambda x: cleanText(x))\n",
        "\n"
      ],
      "execution_count": 8,
      "outputs": []
    },
    {
      "cell_type": "code",
      "metadata": {
        "id": "1G7zdaBsHOIv",
        "colab_type": "code",
        "colab": {
          "base_uri": "https://localhost:8080/",
          "height": 50
        },
        "outputId": "87ed3fc8-c727-4b79-8bba-8ec1ec9e0966"
      },
      "source": [
        "train_clean['duplicate_text_clean_count']=train_clean.loc[:,['text_clean','target']].groupby(['text_clean']).transform('count')\n",
        "train_clean['count_targets']=train_clean.loc[:,['text_clean','target']].groupby(['text_clean']).transform('nunique')\n",
        "train_clean=train_clean[train_clean.count_targets==1]\n",
        "train_clean.drop('count_targets',axis=1,inplace=True)\n",
        "train_clean.drop_duplicates(subset ='text_clean', keep = 'first', inplace = True)\n",
        "print('El DataFrame pre cleaning cuenta con {} filas y {} columnas'.format(train.shape[0],train.shape[1]))\n",
        "print('El DataFrame post cleaning cuenta con {} filas y {} columnas'.format(train_clean.shape[0],train_clean.shape[1]))\n",
        "\n",
        "train_clean.drop('duplicate_text_count',axis=1,inplace=True)\n",
        "train_clean.drop('duplicate_text_clean_count',axis=1,inplace=True)\n"
      ],
      "execution_count": 9,
      "outputs": [
        {
          "output_type": "stream",
          "text": [
            "El DataFrame pre cleaning cuenta con 7613 filas y 7 columnas\n",
            "El DataFrame post cleaning cuenta con 6855 filas y 8 columnas\n"
          ],
          "name": "stdout"
        }
      ]
    },
    {
      "cell_type": "code",
      "metadata": {
        "id": "OgjgxvbNKGY0",
        "colab_type": "code",
        "colab": {}
      },
      "source": [
        "def deleteStopwords(inputString):\n",
        "  inputString= inputString.lower()\n",
        "  text_tokens = word_tokenize(inputString)\n",
        "  tokens_without_sw = [word for word in text_tokens if not word in stopwords.words('english')]\n",
        "  filtered_sentence = (\" \").join(tokens_without_sw)\n",
        "  return filtered_sentence\n",
        "\n",
        "train_clean['text_clean_nosw'] = train_clean['text_clean'].apply(lambda x:deleteStopwords(x))\n",
        "test_clean['text_clean_nosw'] = test_clean['text_clean'].apply(lambda x:deleteStopwords(x))\n"
      ],
      "execution_count": 10,
      "outputs": []
    },
    {
      "cell_type": "code",
      "metadata": {
        "id": "7kLT4wjNKO21",
        "colab_type": "code",
        "colab": {
          "base_uri": "https://localhost:8080/",
          "height": 50
        },
        "outputId": "c5587135-d00e-423f-b21e-816a0cbb0773"
      },
      "source": [
        "nltk.download('wordnet')\n",
        "from nltk.stem import WordNetLemmatizer\n",
        "\n",
        "def sentenceLem(sentence):\n",
        "    wordnet_lemmatizer = WordNetLemmatizer()\n",
        "    sentence_words = nltk.word_tokenize(sentence)\n",
        "    temp_line=[] \n",
        "    lines_with_lemmas=[]\n",
        "    \n",
        "    for word in sentence_words:\n",
        "        temp_line.append(wordnet_lemmatizer.lemmatize(word, pos=\"v\"))\n",
        "\n",
        "    string=' ' \n",
        "    lines_with_lemmas.append(string.join(temp_line)) \n",
        "    lines=lines_with_lemmas\n",
        "    str1=''\n",
        "    lines=str1.join(lines)\n",
        "    return lines\n",
        "\n",
        "train_clean['text_clean_lem'] = train_clean['text_clean_nosw'].apply(lambda x:sentenceLem(x))\n",
        "test_clean['text_clean_lem'] = test_clean['text_clean_nosw'].apply(lambda x:sentenceLem(x))"
      ],
      "execution_count": 12,
      "outputs": [
        {
          "output_type": "stream",
          "text": [
            "[nltk_data] Downloading package wordnet to /root/nltk_data...\n",
            "[nltk_data]   Package wordnet is already up-to-date!\n"
          ],
          "name": "stdout"
        }
      ]
    },
    {
      "cell_type": "code",
      "metadata": {
        "id": "xRYATqxaKZiU",
        "colab_type": "code",
        "colab": {}
      },
      "source": [
        "from nltk.tokenize import word_tokenize\n",
        "\n",
        "tokenized_sents = [word_tokenize(i) for i in train_clean['text_clean_lem']]\n",
        "train_clean['lem_tokenized']=tokenized_sents\n",
        "\n",
        "tokenized_sents = [word_tokenize(i) for i in test_clean['text_clean_lem']]\n",
        "test_clean['lem_tokenized']=tokenized_sents"
      ],
      "execution_count": 13,
      "outputs": []
    },
    {
      "cell_type": "code",
      "metadata": {
        "id": "tx0g4M5EKkNf",
        "colab_type": "code",
        "colab": {}
      },
      "source": [
        "train_clean.to_csv(\"train_clean.csv\", index=False, header=True)\n",
        "\n",
        "test_clean.to_csv(\"test_clean.csv\", index=False, header=True)\n"
      ],
      "execution_count": 16,
      "outputs": []
    },
    {
      "cell_type": "code",
      "metadata": {
        "id": "HS3BGJoBVAx8",
        "colab_type": "code",
        "colab": {
          "base_uri": "https://localhost:8080/",
          "height": 117
        },
        "outputId": "92bad7d6-36ee-4ac8-b4b0-7f85f150e81c"
      },
      "source": [
        "ls"
      ],
      "execution_count": 17,
      "outputs": [
        {
          "output_type": "stream",
          "text": [
            " \u001b[0m\u001b[01;34m20_newsgroup\u001b[0m/                              news20.tar.gz\n",
            "'22 5.ipynb'                                test_clean.csv\n",
            " cleanTweets.ipynb                         'TP1 version Ale v2.ipynb'\n",
            "'Copy of Ejercicio Clase 20-4-2020.ipynb'   train_clean.csv\n",
            " \u001b[01;34mdata_tp2\u001b[0m/                                  twitter.png\n",
            " \u001b[01;34mglove.6B\u001b[0m/                                  Untitled0.ipynb\n"
          ],
          "name": "stdout"
        }
      ]
    }
  ]
}